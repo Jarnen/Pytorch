{
 "cells": [
  {
   "cell_type": "code",
   "execution_count": 3,
   "id": "verbal-stake",
   "metadata": {},
   "outputs": [
    {
     "data": {
      "text/plain": [
       "False"
      ]
     },
     "execution_count": 3,
     "metadata": {},
     "output_type": "execute_result"
    }
   ],
   "source": [
    "import torch\n",
    "torch.cuda.is_available()"
   ]
  },
  {
   "cell_type": "code",
   "execution_count": 10,
   "id": "educated-spirit",
   "metadata": {},
   "outputs": [
    {
     "name": "stdout",
     "output_type": "stream",
     "text": [
      "tensor([[[0., 0., 0.],\n",
      "         [0., 0., 0.]],\n",
      "\n",
      "        [[0., 0., 0.],\n",
      "         [0., 0., 0.]]])\n"
     ]
    }
   ],
   "source": [
    "x = torch.empty(2,2,3)\n",
    "print(x)"
   ]
  },
  {
   "cell_type": "code",
   "execution_count": 8,
   "id": "mysterious-ordinary",
   "metadata": {},
   "outputs": [
    {
     "name": "stdout",
     "output_type": "stream",
     "text": [
      "tensor([[[0.9781, 0.7829, 0.4837],\n",
      "         [0.0914, 0.5602, 0.0916]],\n",
      "\n",
      "        [[0.6876, 0.1182, 0.0275],\n",
      "         [0.4409, 0.2531, 0.2956]]])\n"
     ]
    }
   ],
   "source": [
    "x = torch.rand(2,2,3)\n",
    "print(x)"
   ]
  },
  {
   "cell_type": "code",
   "execution_count": 9,
   "id": "gothic-danish",
   "metadata": {},
   "outputs": [
    {
     "name": "stdout",
     "output_type": "stream",
     "text": [
      "tensor([[[0., 0., 0.],\n",
      "         [0., 0., 0.]],\n",
      "\n",
      "        [[0., 0., 0.],\n",
      "         [0., 0., 0.]]])\n"
     ]
    }
   ],
   "source": [
    "x = torch.zeros(2,2,3)\n",
    "print(x)"
   ]
  },
  {
   "cell_type": "code",
   "execution_count": 11,
   "id": "appropriate-strike",
   "metadata": {},
   "outputs": [
    {
     "name": "stdout",
     "output_type": "stream",
     "text": [
      "tensor([[[1., 1., 1.],\n",
      "         [1., 1., 1.]],\n",
      "\n",
      "        [[1., 1., 1.],\n",
      "         [1., 1., 1.]]])\n"
     ]
    }
   ],
   "source": [
    "x = torch.ones(2,2,3)\n",
    "print(x)"
   ]
  },
  {
   "cell_type": "code",
   "execution_count": 13,
   "id": "lesser-hawaii",
   "metadata": {},
   "outputs": [
    {
     "name": "stdout",
     "output_type": "stream",
     "text": [
      "tensor([[[32088589733920882, 25896191785762913, 29273895802044496],\n",
      "         [12948067979231343, 29555336417116214, 29555366481887330]],\n",
      "\n",
      "        [[31525390671741044, 27303532308922465, 25896191785238631],\n",
      "         [27866512327901300, 32651599815639144, 25896191785697385]]])\n",
      "<built-in method size of Tensor object at 0x0000025A1F5ABB80>\n"
     ]
    }
   ],
   "source": [
    "x = torch.empty(2,2,3, dtype=int)\n",
    "print(x)\n",
    "print(x.size)"
   ]
  },
  {
   "cell_type": "code",
   "execution_count": 14,
   "id": "timely-peter",
   "metadata": {},
   "outputs": [
    {
     "name": "stdout",
     "output_type": "stream",
     "text": [
      "tensor([[0.6374, 0.0781],\n",
      "        [0.6059, 0.8382]])\n",
      "tensor([[0.3363, 0.1284],\n",
      "        [0.2803, 0.0590]])\n"
     ]
    }
   ],
   "source": [
    "x = torch.rand(2,2)\n",
    "y = torch.rand(2,2)\n",
    "print(x)\n",
    "print(y)"
   ]
  },
  {
   "cell_type": "code",
   "execution_count": 15,
   "id": "rational-healthcare",
   "metadata": {},
   "outputs": [
    {
     "name": "stdout",
     "output_type": "stream",
     "text": [
      "tensor([[0.9737, 0.2065],\n",
      "        [0.8862, 0.8972]])\n"
     ]
    }
   ],
   "source": [
    "z = x + y # element-wise addition\n",
    "print(z)"
   ]
  },
  {
   "cell_type": "code",
   "execution_count": 26,
   "id": "spare-teach",
   "metadata": {},
   "outputs": [
    {
     "name": "stdout",
     "output_type": "stream",
     "text": [
      "tensor([[2.8860, 0.4407],\n",
      "        [2.7037, 3.4118]])\n"
     ]
    }
   ],
   "source": [
    "zb = torch.add(x,y) # element-wise addition\n",
    "print(zb)"
   ]
  },
  {
   "cell_type": "code",
   "execution_count": 19,
   "id": "special-northern",
   "metadata": {},
   "outputs": [
    {
     "data": {
      "text/plain": [
       "tensor([[2.2486, 0.3627],\n",
       "        [2.0979, 2.5736]])"
      ]
     },
     "execution_count": 19,
     "metadata": {},
     "output_type": "execute_result"
    }
   ],
   "source": [
    "y.add_(x) # in-place addition"
   ]
  },
  {
   "cell_type": "code",
   "execution_count": 28,
   "id": "pointed-initial",
   "metadata": {},
   "outputs": [
    {
     "name": "stdout",
     "output_type": "stream",
     "text": [
      "tensor([[0.7298, 0.3369, 0.8203],\n",
      "        [0.4186, 0.3031, 0.2574],\n",
      "        [0.9351, 0.0999, 0.2860],\n",
      "        [0.7150, 0.9168, 0.7595],\n",
      "        [0.3084, 0.6030, 0.7222]])\n"
     ]
    }
   ],
   "source": [
    "a = torch.rand(5,3)\n",
    "print(a)"
   ]
  },
  {
   "cell_type": "code",
   "execution_count": 33,
   "id": "animated-circulation",
   "metadata": {},
   "outputs": [
    {
     "name": "stdout",
     "output_type": "stream",
     "text": [
      "tensor([0.3369, 0.3031, 0.0999, 0.9168, 0.6030])\n",
      "tensor([0.4186, 0.3031, 0.2574])\n",
      "0.3031314015388489\n"
     ]
    }
   ],
   "source": [
    "print(a[:,1]) # slicing all row and column 1\n",
    "print(a[1,:]) # slicing row 1 and all column\n",
    "print(a[1,1].item()) # slicing/get item from row 1 colomn 1."
   ]
  },
  {
   "cell_type": "code",
   "execution_count": 38,
   "id": "acute-meditation",
   "metadata": {},
   "outputs": [
    {
     "name": "stdout",
     "output_type": "stream",
     "text": [
      "tensor([[0.7733, 0.7363, 0.3737, 0.1335],\n",
      "        [0.0604, 0.6852, 0.4599, 0.6467],\n",
      "        [0.8122, 0.8705, 0.1010, 0.0190],\n",
      "        [0.8798, 0.0381, 0.5727, 0.7256]])\n",
      "tensor([0.7733, 0.7363, 0.3737, 0.1335, 0.0604, 0.6852, 0.4599, 0.6467, 0.8122,\n",
      "        0.8705, 0.1010, 0.0190, 0.8798, 0.0381, 0.5727, 0.7256])\n"
     ]
    }
   ],
   "source": [
    "x = torch.rand(4,4)\n",
    "print(x)\n",
    "y = x.view(16) # resize tensor\n",
    "print(y)"
   ]
  },
  {
   "cell_type": "code",
   "execution_count": 39,
   "id": "innovative-pitch",
   "metadata": {},
   "outputs": [
    {
     "name": "stdout",
     "output_type": "stream",
     "text": [
      "[1. 1. 1. 1. 1.]\n",
      "tensor([1., 1., 1., 1., 1.], dtype=torch.float64)\n"
     ]
    }
   ],
   "source": [
    "import numpy as np\n",
    "a = np.ones(5)\n",
    "print(a)\n",
    "b = torch.from_numpy(a)\n",
    "print(b)"
   ]
  },
  {
   "cell_type": "code",
   "execution_count": 42,
   "id": "amber-blood",
   "metadata": {},
   "outputs": [
    {
     "name": "stdout",
     "output_type": "stream",
     "text": [
      "tensor([1., 1., 1.])\n",
      "[1. 1. 1.]\n",
      "tensor([2., 2., 2.])\n",
      "[2. 2. 2.]\n"
     ]
    }
   ],
   "source": [
    "c = torch.ones(3)\n",
    "print(c)\n",
    "d = c.numpy()\n",
    "print(d)\n",
    "\n",
    "c.add_(1) # inplace addition\n",
    "print(c) # value changed\n",
    "print(d) # value of d changed also -> pointing to same location of c"
   ]
  },
  {
   "cell_type": "code",
   "execution_count": 43,
   "id": "precise-annex",
   "metadata": {},
   "outputs": [],
   "source": [
    "#operations on the GPU\n",
    "if torch.cuda.is_available():\n",
    "    device = torch.device(\"cuda\")\n",
    "    x = torch.ones(5, device=device) # create torch on the device(GPU)\n",
    "    y = torch.ones(5)\n",
    "    y = y.to(device) # move y to GPU\n",
    "    z = x - y # operation performed in the GPU\n",
    "    #to conevert to numbpy first move to CPU\n",
    "    z = z.to(\"cpu\")"
   ]
  },
  {
   "cell_type": "code",
   "execution_count": null,
   "id": "expressed-amount",
   "metadata": {},
   "outputs": [],
   "source": []
  }
 ],
 "metadata": {
  "kernelspec": {
   "display_name": "myai_env",
   "language": "python",
   "name": "myai_env"
  },
  "language_info": {
   "codemirror_mode": {
    "name": "ipython",
    "version": 3
   },
   "file_extension": ".py",
   "mimetype": "text/x-python",
   "name": "python",
   "nbconvert_exporter": "python",
   "pygments_lexer": "ipython3",
   "version": "3.8.6"
  }
 },
 "nbformat": 4,
 "nbformat_minor": 5
}
